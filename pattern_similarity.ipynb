{
 "cells": [
  {
   "cell_type": "code",
   "execution_count": 2,
   "metadata": {},
   "outputs": [],
   "source": [
    "from run_pattern_similarity import get_rating_pattern_similarities\n",
    "\n",
    "import numpy as np\n",
    "import pandas as pd\n",
    "from sklearn.metrics.pairwise import cosine_similarity"
   ]
  },
  {
   "cell_type": "markdown",
   "metadata": {},
   "source": [
    "## helper function"
   ]
  },
  {
   "cell_type": "code",
   "execution_count": 2,
   "metadata": {},
   "outputs": [],
   "source": [
    "def compute_proportions(ratings, total_ratings):\n",
    "    return [count / total_ratings for count in ratings]\n",
    "\n",
    "def calculate_cosine_similarity(vector1, vector2):\n",
    "    return cosine_similarity([vector1], [vector2])[0][0]"
   ]
  },
  {
   "cell_type": "markdown",
   "metadata": {},
   "source": [
    "## load data"
   ]
  },
  {
   "cell_type": "code",
   "execution_count": 3,
   "metadata": {},
   "outputs": [
    {
     "name": "stdout",
     "output_type": "stream",
     "text": [
      "Processing domain: All_Beauty\n",
      "Processing domain: Appliances\n"
     ]
    }
   ],
   "source": [
    "all_beauty = get_rating_pattern_similarities(\"All_Beauty\")\n",
    "appliances = get_rating_pattern_similarities(\"Appliances\")\n"
   ]
  },
  {
   "cell_type": "code",
   "execution_count": 5,
   "metadata": {},
   "outputs": [],
   "source": [
    "domain_statistics = {}\n",
    "for domain in [all_beauty, appliances]:\n",
    "    domain_statistics[str(domain)] = {\n",
    "        \"num_reviews\": len(domain),\n",
    "        \"num_users\": len(domain[\"user_id\"].unique()),\n",
    "        \"num_items\": len(domain[\"parent_asin\"].unique()),\n",
    "        \"user_ids\": domain[\"user_id\"].unique(),\n",
    "        \"item_ids\": domain[\"parent_asin\"].unique(),\n",
    "    }"
   ]
  },
  {
   "cell_type": "code",
   "execution_count": 6,
   "metadata": {},
   "outputs": [
    {
     "name": "stdout",
     "output_type": "stream",
     "text": [
      "All users all_beauty: 631986\n",
      "All items appliances: 1755732\n",
      "Number of overlapping users: 58120\n",
      "Number of overlapping items: 0\n"
     ]
    }
   ],
   "source": [
    "domain_statistics\n",
    "# number of overlapping users and items\n",
    "count_overlap_users = len(set(domain_statistics[str(all_beauty)][\"user_ids\"]).intersection(set(domain_statistics[str(appliances)][\"user_ids\"])))\n",
    "count_overlap_items = len(set(domain_statistics[str(all_beauty)][\"item_ids\"]).intersection(set(domain_statistics[str(appliances)][\"item_ids\"])))\n",
    "\n",
    "print(f\"All users all_beauty: {domain_statistics[str(all_beauty)]['num_users']}\")\n",
    "print(f\"All items appliances: {domain_statistics[str(appliances)]['num_users']}\")\n",
    "print(f\"Number of overlapping users: {count_overlap_users}\")\n",
    "print(f\"Number of overlapping items: {count_overlap_items}\")"
   ]
  },
  {
   "cell_type": "code",
   "execution_count": 6,
   "metadata": {},
   "outputs": [
    {
     "data": {
      "text/html": [
       "<div>\n",
       "<style scoped>\n",
       "    .dataframe tbody tr th:only-of-type {\n",
       "        vertical-align: middle;\n",
       "    }\n",
       "\n",
       "    .dataframe tbody tr th {\n",
       "        vertical-align: top;\n",
       "    }\n",
       "\n",
       "    .dataframe thead th {\n",
       "        text-align: right;\n",
       "    }\n",
       "</style>\n",
       "<table border=\"1\" class=\"dataframe\">\n",
       "  <thead>\n",
       "    <tr style=\"text-align: right;\">\n",
       "      <th></th>\n",
       "      <th>rating</th>\n",
       "      <th>title</th>\n",
       "      <th>text</th>\n",
       "      <th>images</th>\n",
       "      <th>asin</th>\n",
       "      <th>parent_asin</th>\n",
       "      <th>user_id</th>\n",
       "      <th>timestamp</th>\n",
       "      <th>helpful_vote</th>\n",
       "      <th>verified_purchase</th>\n",
       "    </tr>\n",
       "  </thead>\n",
       "  <tbody>\n",
       "    <tr>\n",
       "      <th>0</th>\n",
       "      <td>5.0</td>\n",
       "      <td>Such a lovely scent but not overpowering.</td>\n",
       "      <td>This spray is really nice. It smells really go...</td>\n",
       "      <td>[]</td>\n",
       "      <td>B00YQ6X8EO</td>\n",
       "      <td>B00YQ6X8EO</td>\n",
       "      <td>AGKHLEW2SOWHNMFQIJGBECAF7INQ</td>\n",
       "      <td>1588687728923</td>\n",
       "      <td>0</td>\n",
       "      <td>True</td>\n",
       "    </tr>\n",
       "    <tr>\n",
       "      <th>1</th>\n",
       "      <td>4.0</td>\n",
       "      <td>Works great but smells a little weird.</td>\n",
       "      <td>This product does what I need it to do, I just...</td>\n",
       "      <td>[]</td>\n",
       "      <td>B081TJ8YS3</td>\n",
       "      <td>B081TJ8YS3</td>\n",
       "      <td>AGKHLEW2SOWHNMFQIJGBECAF7INQ</td>\n",
       "      <td>1588615855070</td>\n",
       "      <td>1</td>\n",
       "      <td>True</td>\n",
       "    </tr>\n",
       "    <tr>\n",
       "      <th>2</th>\n",
       "      <td>5.0</td>\n",
       "      <td>Yes!</td>\n",
       "      <td>Smells good, feels great!</td>\n",
       "      <td>[]</td>\n",
       "      <td>B07PNNCSP9</td>\n",
       "      <td>B097R46CSY</td>\n",
       "      <td>AE74DYR3QUGVPZJ3P7RFWBGIX7XQ</td>\n",
       "      <td>1589665266052</td>\n",
       "      <td>2</td>\n",
       "      <td>True</td>\n",
       "    </tr>\n",
       "    <tr>\n",
       "      <th>3</th>\n",
       "      <td>1.0</td>\n",
       "      <td>Synthetic feeling</td>\n",
       "      <td>Felt synthetic</td>\n",
       "      <td>[]</td>\n",
       "      <td>B09JS339BZ</td>\n",
       "      <td>B09JS339BZ</td>\n",
       "      <td>AFQLNQNQYFWQZPJQZS6V3NZU4QBQ</td>\n",
       "      <td>1643393630220</td>\n",
       "      <td>0</td>\n",
       "      <td>True</td>\n",
       "    </tr>\n",
       "    <tr>\n",
       "      <th>4</th>\n",
       "      <td>5.0</td>\n",
       "      <td>A+</td>\n",
       "      <td>Love it</td>\n",
       "      <td>[]</td>\n",
       "      <td>B08BZ63GMJ</td>\n",
       "      <td>B08BZ63GMJ</td>\n",
       "      <td>AFQLNQNQYFWQZPJQZS6V3NZU4QBQ</td>\n",
       "      <td>1609322563534</td>\n",
       "      <td>0</td>\n",
       "      <td>True</td>\n",
       "    </tr>\n",
       "    <tr>\n",
       "      <th>...</th>\n",
       "      <td>...</td>\n",
       "      <td>...</td>\n",
       "      <td>...</td>\n",
       "      <td>...</td>\n",
       "      <td>...</td>\n",
       "      <td>...</td>\n",
       "      <td>...</td>\n",
       "      <td>...</td>\n",
       "      <td>...</td>\n",
       "      <td>...</td>\n",
       "    </tr>\n",
       "    <tr>\n",
       "      <th>701523</th>\n",
       "      <td>4.0</td>\n",
       "      <td>Four Stars</td>\n",
       "      <td>Conditioner is great  shampoo not as I expected</td>\n",
       "      <td>[]</td>\n",
       "      <td>B006YUIWKA</td>\n",
       "      <td>B006YUIWKA</td>\n",
       "      <td>AFIXGFVEGLMOTMBTJL7H3VSIETDQ</td>\n",
       "      <td>1478227021000</td>\n",
       "      <td>0</td>\n",
       "      <td>True</td>\n",
       "    </tr>\n",
       "    <tr>\n",
       "      <th>701524</th>\n",
       "      <td>1.0</td>\n",
       "      <td>Pretty</td>\n",
       "      <td>Did not work! Used the whole bottle and my hai...</td>\n",
       "      <td>[]</td>\n",
       "      <td>B006YUIWKA</td>\n",
       "      <td>B006YUIWKA</td>\n",
       "      <td>AFV7YZFOJF564EZGET5LG45K4QEA</td>\n",
       "      <td>1480908730000</td>\n",
       "      <td>0</td>\n",
       "      <td>False</td>\n",
       "    </tr>\n",
       "    <tr>\n",
       "      <th>701525</th>\n",
       "      <td>5.0</td>\n",
       "      <td>Great sunless tanner</td>\n",
       "      <td>Product as expected. Shipping was on time.</td>\n",
       "      <td>[]</td>\n",
       "      <td>B06ZZV9MZT</td>\n",
       "      <td>B06ZZV9MZT</td>\n",
       "      <td>AHYDCWDMMVMLBX7FY7M7JKADKRDQ</td>\n",
       "      <td>1590547974067</td>\n",
       "      <td>0</td>\n",
       "      <td>True</td>\n",
       "    </tr>\n",
       "    <tr>\n",
       "      <th>701526</th>\n",
       "      <td>5.0</td>\n",
       "      <td>The Crown on top is a Ring!!!</td>\n",
       "      <td>Not only is it a delicious fragrance, but also...</td>\n",
       "      <td>[]</td>\n",
       "      <td>B000HB6VLE</td>\n",
       "      <td>B000HB6VLE</td>\n",
       "      <td>AF6ZIAEN7TQ2WY5ZL77F6JDPV7XQ</td>\n",
       "      <td>1184798209000</td>\n",
       "      <td>4</td>\n",
       "      <td>False</td>\n",
       "    </tr>\n",
       "    <tr>\n",
       "      <th>701527</th>\n",
       "      <td>4.0</td>\n",
       "      <td>Good Shampoo/Conditioner</td>\n",
       "      <td>The conditioner doesn't really make your hair ...</td>\n",
       "      <td>[]</td>\n",
       "      <td>B0093MXHFG</td>\n",
       "      <td>B0093MXHFG</td>\n",
       "      <td>AGIYQU6RK6TBKBCMWKVPBPBMMJNA</td>\n",
       "      <td>1366944486000</td>\n",
       "      <td>1</td>\n",
       "      <td>True</td>\n",
       "    </tr>\n",
       "  </tbody>\n",
       "</table>\n",
       "<p>701528 rows × 10 columns</p>\n",
       "</div>"
      ],
      "text/plain": [
       "        rating                                      title  \\\n",
       "0          5.0  Such a lovely scent but not overpowering.   \n",
       "1          4.0     Works great but smells a little weird.   \n",
       "2          5.0                                       Yes!   \n",
       "3          1.0                          Synthetic feeling   \n",
       "4          5.0                                         A+   \n",
       "...        ...                                        ...   \n",
       "701523     4.0                                 Four Stars   \n",
       "701524     1.0                                     Pretty   \n",
       "701525     5.0                       Great sunless tanner   \n",
       "701526     5.0              The Crown on top is a Ring!!!   \n",
       "701527     4.0                   Good Shampoo/Conditioner   \n",
       "\n",
       "                                                     text images        asin  \\\n",
       "0       This spray is really nice. It smells really go...     []  B00YQ6X8EO   \n",
       "1       This product does what I need it to do, I just...     []  B081TJ8YS3   \n",
       "2                               Smells good, feels great!     []  B07PNNCSP9   \n",
       "3                                          Felt synthetic     []  B09JS339BZ   \n",
       "4                                                 Love it     []  B08BZ63GMJ   \n",
       "...                                                   ...    ...         ...   \n",
       "701523    Conditioner is great  shampoo not as I expected     []  B006YUIWKA   \n",
       "701524  Did not work! Used the whole bottle and my hai...     []  B006YUIWKA   \n",
       "701525         Product as expected. Shipping was on time.     []  B06ZZV9MZT   \n",
       "701526  Not only is it a delicious fragrance, but also...     []  B000HB6VLE   \n",
       "701527  The conditioner doesn't really make your hair ...     []  B0093MXHFG   \n",
       "\n",
       "       parent_asin                       user_id      timestamp  helpful_vote  \\\n",
       "0       B00YQ6X8EO  AGKHLEW2SOWHNMFQIJGBECAF7INQ  1588687728923             0   \n",
       "1       B081TJ8YS3  AGKHLEW2SOWHNMFQIJGBECAF7INQ  1588615855070             1   \n",
       "2       B097R46CSY  AE74DYR3QUGVPZJ3P7RFWBGIX7XQ  1589665266052             2   \n",
       "3       B09JS339BZ  AFQLNQNQYFWQZPJQZS6V3NZU4QBQ  1643393630220             0   \n",
       "4       B08BZ63GMJ  AFQLNQNQYFWQZPJQZS6V3NZU4QBQ  1609322563534             0   \n",
       "...            ...                           ...            ...           ...   \n",
       "701523  B006YUIWKA  AFIXGFVEGLMOTMBTJL7H3VSIETDQ  1478227021000             0   \n",
       "701524  B006YUIWKA  AFV7YZFOJF564EZGET5LG45K4QEA  1480908730000             0   \n",
       "701525  B06ZZV9MZT  AHYDCWDMMVMLBX7FY7M7JKADKRDQ  1590547974067             0   \n",
       "701526  B000HB6VLE  AF6ZIAEN7TQ2WY5ZL77F6JDPV7XQ  1184798209000             4   \n",
       "701527  B0093MXHFG  AGIYQU6RK6TBKBCMWKVPBPBMMJNA  1366944486000             1   \n",
       "\n",
       "        verified_purchase  \n",
       "0                    True  \n",
       "1                    True  \n",
       "2                    True  \n",
       "3                    True  \n",
       "4                    True  \n",
       "...                   ...  \n",
       "701523               True  \n",
       "701524              False  \n",
       "701525               True  \n",
       "701526              False  \n",
       "701527               True  \n",
       "\n",
       "[701528 rows x 10 columns]"
      ]
     },
     "execution_count": 6,
     "metadata": {},
     "output_type": "execute_result"
    }
   ],
   "source": [
    "all_beauty"
   ]
  },
  {
   "cell_type": "markdown",
   "metadata": {},
   "source": [
    "## compute user-item rating matrices for both datasets (shared users)"
   ]
  },
  {
   "cell_type": "code",
   "execution_count": 7,
   "metadata": {},
   "outputs": [],
   "source": [
    "# filter for shared users\n",
    "all_beauty_filtered = all_beauty[all_beauty[\"user_id\"].isin(domain_statistics[str(appliances)][\"user_ids\"])]\n",
    "appliances_filtered = appliances[appliances[\"user_id\"].isin(domain_statistics[str(all_beauty)][\"user_ids\"])]\n",
    "\n",
    "# Check for duplicates\n",
    "all_beauty_duplicates = all_beauty_filtered.duplicated(subset=[\"user_id\", \"parent_asin\"], keep=False)\n",
    "appliances_duplicates = appliances_filtered.duplicated(subset=[\"user_id\", \"parent_asin\"], keep=False)\n",
    "\n",
    "# Remove duplicates\n",
    "all_beauty_filtered = all_beauty_filtered[~all_beauty_duplicates]\n",
    "appliances_filtered = appliances_filtered[~appliances_duplicates]\n",
    "\n",
    "\n",
    "# only keep user_id, parent_asin, and rating\n",
    "all_beauty_filtered = all_beauty_filtered[[\"user_id\", \"parent_asin\", \"rating\"]]\n",
    "appliances_filtered = appliances_filtered[[\"user_id\", \"parent_asin\", \"rating\"]]\n",
    "\n",
    "\n",
    "# create user-item matrix\n",
    "all_beauty_matrix = all_beauty_filtered.pivot(index=\"user_id\", columns=\"parent_asin\", values=\"rating\")\n",
    "appliances_matrix = appliances_filtered.pivot(index=\"user_id\", columns=\"parent_asin\", values=\"rating\")\n",
    "\n",
    "all_beauty_matrix = all_beauty_matrix.fillna(0)\n",
    "appliances_matrix = appliances_matrix.fillna(0)"
   ]
  },
  {
   "cell_type": "code",
   "execution_count": 9,
   "metadata": {},
   "outputs": [],
   "source": [
    "from sklearn.decomposition import TruncatedSVD, NMF\n",
    "import numpy as np"
   ]
  },
  {
   "cell_type": "code",
   "execution_count": 8,
   "metadata": {},
   "outputs": [
    {
     "data": {
      "text/plain": [
       "(57723, 30434)"
      ]
     },
     "execution_count": 8,
     "metadata": {},
     "output_type": "execute_result"
    }
   ],
   "source": [
    "all_beauty_matrix.shape"
   ]
  },
  {
   "cell_type": "code",
   "execution_count": null,
   "metadata": {},
   "outputs": [],
   "source": [
    "svd = TruncatedSVD(n_components=10)  # k = number of latent factors\n",
    "# all_beauty_matrix_reduced = all_beauty_matrix.iloc[:57723, :20000]\n",
    "user_factors_1 = svd.fit_transform(all_beauty_matrix)  # User embeddings for Dataset 1\n",
    "# user_factors_2 = svd.fit_transform(appliances_matrix)  # User embeddings for Dataset 2"
   ]
  },
  {
   "cell_type": "code",
   "execution_count": 11,
   "metadata": {},
   "outputs": [],
   "source": [
    "user_factors_2 = svd.fit_transform(appliances_matrix)"
   ]
  },
  {
   "cell_type": "code",
   "execution_count": 34,
   "metadata": {},
   "outputs": [
    {
     "data": {
      "text/plain": [
       "(57689, 10)"
      ]
     },
     "execution_count": 34,
     "metadata": {},
     "output_type": "execute_result"
    }
   ],
   "source": [
    "user_factors_2.shape"
   ]
  },
  {
   "cell_type": "code",
   "execution_count": 12,
   "metadata": {},
   "outputs": [],
   "source": [
    "from sklearn.metrics.pairwise import cosine_similarity\n",
    "\n",
    "# Compute pairwise cosine similarity for shared users"
   ]
  },
  {
   "cell_type": "code",
   "execution_count": 13,
   "metadata": {},
   "outputs": [],
   "source": [
    "all_beauty_matrix_reduced = all_beauty_matrix.iloc[:20000, :20000]"
   ]
  },
  {
   "cell_type": "code",
   "execution_count": null,
   "metadata": {},
   "outputs": [],
   "source": [
    "cos_sim = cosine_similarity(all_beauty_matrix_reduced, all_beauty_matrix_reduced)"
   ]
  },
  {
   "cell_type": "code",
   "execution_count": null,
   "metadata": {},
   "outputs": [],
   "source": [
    "cos_sim"
   ]
  },
  {
   "cell_type": "code",
   "execution_count": null,
   "metadata": {},
   "outputs": [],
   "source": []
  },
  {
   "cell_type": "code",
   "execution_count": null,
   "metadata": {},
   "outputs": [],
   "source": []
  },
  {
   "cell_type": "markdown",
   "metadata": {},
   "source": [
    "## group ratings by item"
   ]
  },
  {
   "cell_type": "code",
   "execution_count": 18,
   "metadata": {},
   "outputs": [
    {
     "data": {
      "text/plain": [
       "(rating       1.0  2.0  3.0  4.0  5.0\n",
       " parent_asin                         \n",
       " 0005946468     0    0    0    0    1\n",
       " 0123034892     0    0    0    0    1\n",
       " 0124784577     0    0    1    0    2\n",
       " 0515059560     0    0    0    1    0\n",
       " 0692508988     0    0    0    0    1,\n",
       " parent_asin\n",
       " 0005946468    1\n",
       " 0123034892    1\n",
       " 0124784577    3\n",
       " 0515059560    1\n",
       " 0692508988    1\n",
       " dtype: int64)"
      ]
     },
     "execution_count": 18,
     "metadata": {},
     "output_type": "execute_result"
    }
   ],
   "source": [
    "ratings_counts_all_beauty = all_beauty.groupby(['parent_asin', 'rating']).size().unstack(fill_value=0)\n",
    "total_ratings_all_beauty = ratings_counts_all_beauty.sum(axis=1)\n",
    "\n",
    "ratings_counts_all_beauty.head(), total_ratings_all_beauty.head()"
   ]
  },
  {
   "cell_type": "markdown",
   "metadata": {},
   "source": [
    "## convert counts to proportions"
   ]
  },
  {
   "cell_type": "code",
   "execution_count": null,
   "metadata": {},
   "outputs": [],
   "source": [
    "all_beauty_rating_proportions = ratings_counts_all_beauty.div(total_ratings_all_beauty, axis=0)"
   ]
  },
  {
   "cell_type": "code",
   "execution_count": null,
   "metadata": {},
   "outputs": [],
   "source": [
    "all_beauty_rating_proportions.head()"
   ]
  }
 ],
 "metadata": {
  "kernelspec": {
   "display_name": ".venv",
   "language": "python",
   "name": "python3"
  },
  "language_info": {
   "codemirror_mode": {
    "name": "ipython",
    "version": 3
   },
   "file_extension": ".py",
   "mimetype": "text/x-python",
   "name": "python",
   "nbconvert_exporter": "python",
   "pygments_lexer": "ipython3",
   "version": "3.11.5"
  }
 },
 "nbformat": 4,
 "nbformat_minor": 2
}
