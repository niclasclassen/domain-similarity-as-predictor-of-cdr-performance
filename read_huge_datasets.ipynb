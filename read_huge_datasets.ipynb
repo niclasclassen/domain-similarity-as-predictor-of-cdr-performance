{
 "cells": [
  {
   "cell_type": "code",
   "execution_count": 1,
   "metadata": {},
   "outputs": [],
   "source": [
    "import pandas as pd\n",
    "import json"
   ]
  },
  {
   "cell_type": "code",
   "execution_count": 18,
   "metadata": {},
   "outputs": [],
   "source": [
    "domain = \"Clothing_Shoes_and_Jewelry\"\n",
    "path = 'data/reviews/json'\n",
    "file_path = f\"{path}/{domain}_reviews\"\n",
    "\n",
    "# Read the JSONL file\n",
    "item_id_review_counter = {}\n",
    "with open(file_path, \"r\") as file:\n",
    "    for line in file:\n",
    "        review = json.loads(line)\n",
    "        item_id = review[\"parent_asin\"]\n",
    "        if item_id in item_id_review_counter:\n",
    "            item_id_review_counter[item_id] += 1\n",
    "        else:\n",
    "            item_id_review_counter[item_id] = 1\n",
    "\n"
   ]
  },
  {
   "cell_type": "code",
   "execution_count": 19,
   "metadata": {},
   "outputs": [],
   "source": [
    "domain = \"Clothing_Shoes_and_Jewelry\"\n",
    "path = 'data/metadata/json'\n",
    "file_path = f\"{path}/{domain}_metadata\"\n",
    "\n",
    "# Read the JSONL file\n",
    "metadata = []\n",
    "with open(file_path, \"r\") as file:\n",
    "    for line in file:\n",
    "        item_metadata = json.loads(line)\n",
    "        item_id = item_metadata[\"parent_asin\"]\n",
    "\n",
    "        if item_id in item_id_review_counter and item_id_review_counter[item_id] >= 5:\n",
    "            metadata.append(item_metadata)"
   ]
  },
  {
   "cell_type": "code",
   "execution_count": 20,
   "metadata": {},
   "outputs": [
    {
     "data": {
      "text/plain": [
       "1334378"
      ]
     },
     "execution_count": 20,
     "metadata": {},
     "output_type": "execute_result"
    }
   ],
   "source": [
    "len(metadata)"
   ]
  },
  {
   "cell_type": "code",
   "execution_count": 21,
   "metadata": {},
   "outputs": [],
   "source": [
    "df = pd.DataFrame(metadata)"
   ]
  },
  {
   "cell_type": "code",
   "execution_count": 22,
   "metadata": {},
   "outputs": [],
   "source": [
    "df.head()\n",
    "# remove the columns that are not useful\n",
    "df = df.drop(columns=[\"videos\", \"images\"])"
   ]
  },
  {
   "cell_type": "code",
   "execution_count": 25,
   "metadata": {},
   "outputs": [],
   "source": [
    "df.to_csv(\"preprocessed_data/Clothing_Shoes_and_Jewelry/Clothing_Shoes_and_Jewelry_filtered_metadata.csv\", index=False)"
   ]
  },
  {
   "cell_type": "code",
   "execution_count": null,
   "metadata": {},
   "outputs": [],
   "source": []
  }
 ],
 "metadata": {
  "kernelspec": {
   "display_name": "rp_env",
   "language": "python",
   "name": "python3"
  },
  "language_info": {
   "codemirror_mode": {
    "name": "ipython",
    "version": 3
   },
   "file_extension": ".py",
   "mimetype": "text/x-python",
   "name": "python",
   "nbconvert_exporter": "python",
   "pygments_lexer": "ipython3",
   "version": "3.12.5"
  }
 },
 "nbformat": 4,
 "nbformat_minor": 2
}
