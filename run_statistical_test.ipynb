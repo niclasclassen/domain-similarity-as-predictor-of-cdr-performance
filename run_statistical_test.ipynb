{
 "cells": [
  {
   "cell_type": "code",
   "execution_count": 19,
   "metadata": {},
   "outputs": [],
   "source": [
    "import os\n",
    "import pandas as pd\n",
    "from scipy.stats import ttest_rel"
   ]
  },
  {
   "cell_type": "code",
   "execution_count": 9,
   "metadata": {},
   "outputs": [],
   "source": [
    "# Define paths to the folders\n",
    "path_similar_pair = 'data/statistical_test/video_software_conet'\n",
    "path_dissimilar_pair = 'data/statistical_test/music_software_conet'\n",
    "\n",
    "# Define the file name\n",
    "file_user_id_mapping = 'user_id_mapping.txt'\n",
    "\n",
    "# Construct full paths to the files\n",
    "file_path_similar = os.path.join(path_similar_pair, file_user_id_mapping)\n",
    "file_path_dissimilar = os.path.join(path_dissimilar_pair, file_user_id_mapping)\n",
    "\n",
    "# Read the user_id_mapping.txt files into DataFrames\n",
    "df_similar = pd.read_csv(file_path_similar, header=None, names=['new_id', 'original_id'])\n",
    "df_dissimilar = pd.read_csv(file_path_dissimilar, header=None, names=['new_id', 'original_id'])\n",
    "\n",
    "# Drop duplicates\n",
    "df_similar.drop_duplicates(inplace=True)\n",
    "df_dissimilar.drop_duplicates(inplace=True)\n",
    "\n",
    "# Filter for overlapping original_ids\n",
    "df_similar_filtered = df_similar[df_similar['original_id'].isin(df_dissimilar['original_id'])]\n",
    "df_dissimilar_filtered = df_dissimilar[df_dissimilar['original_id'].isin(df_similar['original_id'])]"
   ]
  },
  {
   "cell_type": "code",
   "execution_count": 21,
   "metadata": {},
   "outputs": [],
   "source": [
    "# Define filenames to HR, MRR, and NDCG per user\n",
    "file_hr = 'user_hits.txt'\n",
    "file_mrr = 'user_mrrs.txt'\n",
    "file_ndcg = 'user_ndcg_at_10.txt'\n",
    "\n",
    "# Construct full paths to the files\n",
    "file_path_hr_similar = os.path.join(path_similar_pair, file_hr)\n",
    "file_path_mrr_similar = os.path.join(path_similar_pair, file_mrr)\n",
    "file_path_ndcg_similar = os.path.join(path_similar_pair, file_ndcg)\n",
    "\n",
    "file_path_hr_dissimilar = os.path.join(path_dissimilar_pair, file_hr)\n",
    "file_path_mrr_dissimilar = os.path.join(path_dissimilar_pair, file_mrr)\n",
    "file_path_ndcg_dissimilar = os.path.join(path_dissimilar_pair, file_ndcg)\n",
    "\n",
    "# Read the HR, MRR, and NDCG files into DataFrames\n",
    "df_hr_similar = pd.read_csv(file_path_hr_similar, header=None, names=['hits'])\n",
    "df_mrr_similar = pd.read_csv(file_path_mrr_similar, header=None, names=['mrr'])\n",
    "df_ndcg_similar = pd.read_csv(file_path_ndcg_similar, header=None, names=['ndcg'])\n",
    "\n",
    "df_hr_dissimilar = pd.read_csv(file_path_hr_dissimilar, header=None, names=['hits'])\n",
    "df_mrr_dissimilar = pd.read_csv(file_path_mrr_dissimilar, header=None, names=['mrr'])\n",
    "df_ndcg_dissimilar = pd.read_csv(file_path_ndcg_dissimilar, header=None, names=['ndcg'])\n",
    "\n",
    "# Add new_id column based on the index\n",
    "df_hr_similar['new_id'] = df_hr_similar.index + 1\n",
    "df_mrr_similar['new_id'] = df_mrr_similar.index + 1\n",
    "df_ndcg_similar['new_id'] = df_ndcg_similar.index + 1\n",
    "\n",
    "df_hr_dissimilar['new_id'] = df_hr_dissimilar.index + 1\n",
    "df_mrr_dissimilar['new_id'] = df_mrr_dissimilar.index + 1\n",
    "df_ndcg_dissimilar['new_id'] = df_ndcg_dissimilar.index + 1\n",
    "\n",
    "# Filter for overlapping new_ids\n",
    "df_hr_similar_filtered = df_hr_similar[df_hr_similar['new_id'].isin(df_similar_filtered['new_id'])]\n",
    "df_mrr_similar_filtered = df_mrr_similar[df_mrr_similar['new_id'].isin(df_similar_filtered['new_id'])]\n",
    "df_ndcg_similar_filtered = df_ndcg_similar[df_ndcg_similar['new_id'].isin(df_similar_filtered['new_id'])]\n",
    "\n",
    "df_hr_dissimilar_filtered = df_hr_dissimilar[df_hr_dissimilar['new_id'].isin(df_dissimilar_filtered['new_id'])]\n",
    "df_mrr_dissimilar_filtered = df_mrr_dissimilar[df_mrr_dissimilar['new_id'].isin(df_dissimilar_filtered['new_id'])]\n",
    "df_ndcg_dissimilar_filtered = df_ndcg_dissimilar[df_ndcg_dissimilar['new_id'].isin(df_dissimilar_filtered['new_id'])]\n",
    "\n",
    "# Turn new_id into original_id\n",
    "df_hr_similar_filtered = df_hr_similar_filtered.merge(df_similar_filtered, on='new_id', how='left')\n",
    "df_mrr_similar_filtered = df_mrr_similar_filtered.merge(df_similar_filtered, on='new_id', how='left')\n",
    "df_ndcg_similar_filtered = df_ndcg_similar_filtered.merge(df_similar_filtered, on='new_id', how='left')\n",
    "\n",
    "df_hr_dissimilar_filtered = df_hr_dissimilar_filtered.merge(df_dissimilar_filtered, on='new_id', how='left')\n",
    "df_mrr_dissimilar_filtered = df_mrr_dissimilar_filtered.merge(df_dissimilar_filtered, on='new_id', how='left')\n",
    "df_ndcg_dissimilar_filtered = df_ndcg_dissimilar_filtered.merge(df_dissimilar_filtered, on='new_id', how='left')\n",
    "\n",
    "# Ensure alignment by user_id\n",
    "df_hr_similar_filtered.set_index('original_id', inplace=True)\n",
    "df_hr_dissimilar_filtered.set_index('original_id', inplace=True)\n",
    "\n",
    "df_mrr_similar_filtered.set_index('original_id', inplace=True)\n",
    "df_mrr_dissimilar_filtered.set_index('original_id', inplace=True)\n",
    "\n",
    "df_ndcg_similar_filtered.set_index('original_id', inplace=True)\n",
    "df_ndcg_dissimilar_filtered.set_index('original_id', inplace=True)"
   ]
  },
  {
   "cell_type": "code",
   "execution_count": 22,
   "metadata": {},
   "outputs": [
    {
     "name": "stdout",
     "output_type": "stream",
     "text": [
      "HR Paired t-test: t-statistic = -1.6101552808487936, p-value = 0.10736987980745498\n",
      "MRR Paired t-test: t-statistic = -2.0717928443720592, p-value = 0.03828955995992485\n",
      "NDCG Paired t-test: t-statistic = -2.056392303283855, p-value = 0.039749572302553146\n"
     ]
    }
   ],
   "source": [
    "\n",
    "# Perform paired t-tests\n",
    "t_stat_hr, p_value_hr = ttest_rel(df_hr_similar_filtered['hits'], df_hr_dissimilar_filtered['hits'])\n",
    "t_stat_mrr, p_value_mrr = ttest_rel(df_mrr_similar_filtered['mrr'], df_mrr_dissimilar_filtered['mrr'])\n",
    "t_stat_ndcg, p_value_ndcg = ttest_rel(df_ndcg_similar_filtered['ndcg'], df_ndcg_dissimilar_filtered['ndcg'])\n",
    "\n",
    "# Print the results\n",
    "print(f\"HR Paired t-test: t-statistic = {t_stat_hr}, p-value = {p_value_hr}\")\n",
    "print(f\"MRR Paired t-test: t-statistic = {t_stat_mrr}, p-value = {p_value_mrr}\")\n",
    "print(f\"NDCG Paired t-test: t-statistic = {t_stat_ndcg}, p-value = {p_value_ndcg}\")"
   ]
  }
 ],
 "metadata": {
  "kernelspec": {
   "display_name": ".venv",
   "language": "python",
   "name": "python3"
  },
  "language_info": {
   "codemirror_mode": {
    "name": "ipython",
    "version": 3
   },
   "file_extension": ".py",
   "mimetype": "text/x-python",
   "name": "python",
   "nbconvert_exporter": "python",
   "pygments_lexer": "ipython3",
   "version": "3.11.5"
  }
 },
 "nbformat": 4,
 "nbformat_minor": 2
}
