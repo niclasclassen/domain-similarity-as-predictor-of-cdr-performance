{
 "cells": [
  {
   "cell_type": "markdown",
   "metadata": {},
   "source": [
    "# Estimation of Top/Bottom most similar items by damped mean"
   ]
  },
  {
   "cell_type": "code",
   "execution_count": null,
   "metadata": {},
   "outputs": [],
   "source": [
    "import pandas as pd\n",
    "import numpy as np"
   ]
  },
  {
   "cell_type": "code",
   "execution_count": null,
   "metadata": {},
   "outputs": [],
   "source": [
    "\n",
    "# Load the data\n",
    "file_path = 'health_and_household_reviews'\n",
    "df = pd.read_csv(file_path, sep='\\t')\n",
    "\n",
    "# Parameters\n",
    "k = 25  # prior strength\n",
    "\n",
    "# Calculate global mean\n",
    "global_mean = df['rating:float'].mean()\n",
    "\n",
    "# Calculate sum and count of ratings for each item\n",
    "items_rating_sum = df.groupby('item_id:token')['rating:float'].sum()\n",
    "items_rating_count = df.groupby('item_id:token')['rating:float'].count()\n",
    "\n",
    "# Calculate the damped mean for each item\n",
    "items_damped_mean = (items_rating_sum + k * global_mean) / (items_rating_count + k)\n",
    "\n",
    "# Add the damped mean to the dataframe\n",
    "df_items = pd.DataFrame({\n",
    "    'item_id': items_damped_mean.index,\n",
    "    'damped_mean_rating': items_damped_mean.values\n",
    "})\n",
    "\n",
    "# Sort items by damped mean rating\n",
    "df_items_sorted = df_items.sort_values(by='damped_mean_rating', ascending=False)\n",
    "\n",
    "# Select top 30% and bottom 30% of items\n",
    "top_30_percent = df_items_sorted.head(int(len(df_items_sorted) * 0.25))\n",
    "bottom_30_percent = df_items_sorted.tail(int(len(df_items_sorted) * 0.25))\n",
    "\n",
    "top_30_percent_items = df_items_sorted.head(int(len(df_items_sorted) * 0.25))['item_id']\n",
    "bottom_30_percent_items = df_items_sorted.tail(int(len(df_items_sorted) * 0.25))['item_id']\n",
    "\n",
    "# # Print the results\n",
    "# print(\"Top 30% best-rated items:\")\n",
    "# print(top_30_percent_items)\n",
    "\n",
    "# print(\"\\nBottom 30% worst-rated items:\")\n",
    "# print(bottom_30_percent_items)"
   ]
  },
  {
   "cell_type": "code",
   "execution_count": null,
   "metadata": {},
   "outputs": [],
   "source": [
    "# mean rating of the top 30% best-rated items\n",
    "mean_top_30_percent = top_30_percent['damped_mean_rating'].mean()\n",
    "print(\"\\nMean rating of the top 25% best-rated items:\", mean_top_30_percent)\n",
    "\n",
    "mean_bottom_30_percent = bottom_30_percent['damped_mean_rating'].mean()\n",
    "print(\"\\nMean rating of the bottom 25% worst-rated items:\", mean_bottom_30_percent)"
   ]
  },
  {
   "cell_type": "code",
   "execution_count": null,
   "metadata": {},
   "outputs": [],
   "source": [
    "# Filter the original DataFrame to include only the top and bottom items\n",
    "top_30_percent_df = df[df['item_id:token'].isin(top_30_percent_items)]\n",
    "bottom_30_percent_df = df[df['item_id:token'].isin(bottom_30_percent_items)]"
   ]
  },
  {
   "cell_type": "code",
   "execution_count": null,
   "metadata": {},
   "outputs": [],
   "source": [
    "# numper of reviews for the top 30% best-rated items\n",
    "num_reviews_top_30_percent = top_30_percent_df.shape[0]\n",
    "print(\"\\nNumber of reviews for the top 30% best-rated items:\", num_reviews_top_30_percent)\n",
    "\n",
    "num_reviews_bottom_30_percent = bottom_30_percent_df.shape[0]\n",
    "print(\"\\nNumber of reviews for the bottom 30% worst-rated items:\", num_reviews_bottom_30_percent)"
   ]
  },
  {
   "cell_type": "code",
   "execution_count": null,
   "metadata": {},
   "outputs": [],
   "source": [
    "# sample 5 million reviews each\n",
    "top_30_percent_sample = top_30_percent_df.sample(n=5000000, random_state=42)\n",
    "bottom_30_percent_sample = bottom_30_percent_df.sample(n=5000000, random_state=42)"
   ]
  },
  {
   "cell_type": "code",
   "execution_count": null,
   "metadata": {},
   "outputs": [],
   "source": [
    "# Save the filtered DataFrames to separate files\n",
    "top_30_percent_sample.to_csv('pattern_top_25_percent_reviews', sep='\\t', index=False)\n",
    "bottom_30_percent_sample.to_csv('pattern_bottom_25_percent_reviews', sep='\\t', index=False)"
   ]
  }
 ],
 "metadata": {
  "kernelspec": {
   "display_name": ".venv",
   "language": "python",
   "name": "python3"
  },
  "language_info": {
   "codemirror_mode": {
    "name": "ipython",
    "version": 3
   },
   "file_extension": ".py",
   "mimetype": "text/x-python",
   "name": "python",
   "nbconvert_exporter": "python",
   "pygments_lexer": "ipython3",
   "version": "3.11.5"
  }
 },
 "nbformat": 4,
 "nbformat_minor": 2
}
