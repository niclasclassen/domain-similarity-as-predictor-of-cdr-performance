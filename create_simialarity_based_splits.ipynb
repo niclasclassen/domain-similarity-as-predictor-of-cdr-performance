{
 "cells": [
  {
   "cell_type": "markdown",
   "metadata": {},
   "source": [
    "# Create Top/Bottom Splits of most/least similar items"
   ]
  },
  {
   "cell_type": "code",
   "execution_count": null,
   "metadata": {},
   "outputs": [],
   "source": [
    "import pandas as pd\n",
    "\n",
    "# Define the file path\n",
    "file_path = 'data/item_similarity/Health_and_Household_to_Books_similarities.csv'\n",
    "\n",
    "# Read the CSV file into a DataFrame\n",
    "df = pd.read_csv(file_path)\n",
    "\n",
    "# Select only the 'parent_asin' and 'avg_similarity_to_Books' columns\n",
    "df_filtered = df[['parent_asin', 'avg_similarity_to_Books']]\n",
    "\n",
    "# Display the filtered DataFrame\n",
    "df_filtered.head()"
   ]
  },
  {
   "cell_type": "code",
   "execution_count": null,
   "metadata": {},
   "outputs": [],
   "source": [
    "# Sort the DataFrame by 'avg_similarity_to_Books'\n",
    "df_sorted = df_filtered.sort_values(by='avg_similarity_to_Books')\n",
    "\n",
    "# Calculate the 30th and 70th percentiles\n",
    "bottom_30_threshold = df_filtered['avg_similarity_to_Books'].quantile(0.3)\n",
    "top_30_threshold = df_filtered['avg_similarity_to_Books'].quantile(0.7)\n",
    "\n",
    "# Create the bottom 30% DataFrame\n",
    "df_bottom_30 = df_filtered[df_filtered['avg_similarity_to_Books'] <= bottom_30_threshold]\n",
    "\n",
    "# Create the top 30% DataFrame\n",
    "df_top_30 = df_filtered[df_filtered['avg_similarity_to_Books'] >= top_30_threshold]\n",
    "\n",
    "# Display the DataFrames\n",
    "print(\"Bottom 30%:\")\n",
    "print(df_bottom_30.sort_values(by='avg_similarity_to_Books', ascending=False))\n",
    "print(\"\\nTop 30%:\")\n",
    "print(df_top_30.sort_values(by='avg_similarity_to_Books', ascending=False))"
   ]
  },
  {
   "cell_type": "code",
   "execution_count": null,
   "metadata": {},
   "outputs": [],
   "source": [
    "new_file_path = 'health_and_household_reviews'\n",
    "# Read the new CSV file into a DataFrame\n",
    "new_df = pd.read_csv(new_file_path, sep='\\t')\n",
    "\n",
    "# Strip any whitespace from the column names\n",
    "new_df.columns = new_df.columns.str.strip()\n",
    "\n",
    "print(new_df.columns)\n",
    "\n",
    "# Filter the new DataFrame for top 30% similarity\n",
    "top_filtered_df = new_df[new_df['item_id:token'].isin(df_top_30['parent_asin'])]\n",
    "\n",
    "# Filter the new DataFrame for bottom 30% similarity\n",
    "bottom_filtered_df = new_df[new_df['item_id:token'].isin(df_bottom_30['parent_asin'])]\n",
    "\n",
    "# Save the filtered DataFrames to separate CSV files\n",
    "top_filtered_df.to_csv(\"health_and_household_reviews_top_30\", sep=\"\\t\",index=False)\n",
    "bottom_filtered_df.to_csv(\"health_and_household_reviews_bottom_30\", sep=\"\\t\",index=False)"
   ]
  }
 ],
 "metadata": {
  "kernelspec": {
   "display_name": ".venv",
   "language": "python",
   "name": "python3"
  },
  "language_info": {
   "codemirror_mode": {
    "name": "ipython",
    "version": 3
   },
   "file_extension": ".py",
   "mimetype": "text/x-python",
   "name": "python",
   "nbconvert_exporter": "python",
   "pygments_lexer": "ipython3",
   "version": "3.11.5"
  }
 },
 "nbformat": 4,
 "nbformat_minor": 2
}
