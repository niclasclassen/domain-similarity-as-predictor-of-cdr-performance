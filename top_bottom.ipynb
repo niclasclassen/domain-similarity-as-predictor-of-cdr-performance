{
 "cells": [
  {
   "cell_type": "code",
   "execution_count": 9,
   "metadata": {},
   "outputs": [
    {
     "name": "stderr",
     "output_type": "stream",
     "text": [
      "/var/folders/sh/fjb1r_5j6gxcy4lzfcc4_4zr0000gn/T/ipykernel_3430/172812211.py:7: DtypeWarning: Columns (6) have mixed types. Specify dtype option on import or set low_memory=False.\n",
      "  df = pd.read_csv(file_path)\n"
     ]
    },
    {
     "data": {
      "text/html": [
       "<div>\n",
       "<style scoped>\n",
       "    .dataframe tbody tr th:only-of-type {\n",
       "        vertical-align: middle;\n",
       "    }\n",
       "\n",
       "    .dataframe tbody tr th {\n",
       "        vertical-align: top;\n",
       "    }\n",
       "\n",
       "    .dataframe thead th {\n",
       "        text-align: right;\n",
       "    }\n",
       "</style>\n",
       "<table border=\"1\" class=\"dataframe\">\n",
       "  <thead>\n",
       "    <tr style=\"text-align: right;\">\n",
       "      <th></th>\n",
       "      <th>parent_asin</th>\n",
       "      <th>avg_similarity_to_Books</th>\n",
       "    </tr>\n",
       "  </thead>\n",
       "  <tbody>\n",
       "    <tr>\n",
       "      <th>0</th>\n",
       "      <td>B09DWN8B1B</td>\n",
       "      <td>0.056861</td>\n",
       "    </tr>\n",
       "    <tr>\n",
       "      <th>1</th>\n",
       "      <td>B07GBGX763</td>\n",
       "      <td>0.053962</td>\n",
       "    </tr>\n",
       "    <tr>\n",
       "      <th>2</th>\n",
       "      <td>B07XMBT65C</td>\n",
       "      <td>0.086907</td>\n",
       "    </tr>\n",
       "    <tr>\n",
       "      <th>3</th>\n",
       "      <td>B07PRNB93H</td>\n",
       "      <td>0.072244</td>\n",
       "    </tr>\n",
       "    <tr>\n",
       "      <th>4</th>\n",
       "      <td>B004D7MK6S</td>\n",
       "      <td>0.017686</td>\n",
       "    </tr>\n",
       "  </tbody>\n",
       "</table>\n",
       "</div>"
      ],
      "text/plain": [
       "  parent_asin  avg_similarity_to_Books\n",
       "0  B09DWN8B1B                 0.056861\n",
       "1  B07GBGX763                 0.053962\n",
       "2  B07XMBT65C                 0.086907\n",
       "3  B07PRNB93H                 0.072244\n",
       "4  B004D7MK6S                 0.017686"
      ]
     },
     "execution_count": 9,
     "metadata": {},
     "output_type": "execute_result"
    }
   ],
   "source": [
    "import pandas as pd\n",
    "\n",
    "# Define the file path\n",
    "file_path = 'data/item_similarity/Health_and_Household_to_Books_similarities.csv'\n",
    "\n",
    "# Read the CSV file into a DataFrame\n",
    "df = pd.read_csv(file_path)\n",
    "\n",
    "# Select only the 'parent_asin' and 'avg_similarity_to_Books' columns\n",
    "df_filtered = df[['parent_asin', 'avg_similarity_to_Books']]\n",
    "\n",
    "# Display the filtered DataFrame\n",
    "df_filtered.head()"
   ]
  },
  {
   "cell_type": "code",
   "execution_count": 16,
   "metadata": {},
   "outputs": [
    {
     "name": "stdout",
     "output_type": "stream",
     "text": [
      "Bottom 30%:\n",
      "       parent_asin  avg_similarity_to_Books\n",
      "147305  B000J2OARS                 0.040101\n",
      "137877  B001H4FN50                 0.040101\n",
      "142412  B08PW4D7WM                 0.040100\n",
      "115229  B07YQVD2X1                 0.040100\n",
      "76786   B07M5JRHLY                 0.040099\n",
      "...            ...                      ...\n",
      "99495   B018JS9BL8                -0.070108\n",
      "241679  B017TYVFOO                -0.074089\n",
      "167325  B00CHOGJ02                -0.077136\n",
      "1621    B0072JPMRI                -0.079306\n",
      "46712   B003LNRLKU                -0.079374\n",
      "\n",
      "[75000 rows x 2 columns]\n",
      "\n",
      "Top 30%:\n",
      "       parent_asin  avg_similarity_to_Books\n",
      "63624   1732081107                 0.220058\n",
      "145644  B00WFBKF9I                 0.217569\n",
      "213931  B008434SFI                 0.212138\n",
      "210391  B07CH4BCBX                 0.207979\n",
      "164096  B001F4HEXG                 0.207478\n",
      "...            ...                      ...\n",
      "109590  B0176G38HC                 0.072734\n",
      "200205  B0837R6893                 0.072734\n",
      "120291  B0B9ZLHP47                 0.072733\n",
      "193240  B000P482OM                 0.072733\n",
      "206332  B08GYKFR6X                 0.072733\n",
      "\n",
      "[75000 rows x 2 columns]\n"
     ]
    }
   ],
   "source": [
    "# Sort the DataFrame by 'avg_similarity_to_Books'\n",
    "df_sorted = df_filtered.sort_values(by='avg_similarity_to_Books')\n",
    "\n",
    "# Calculate the 30th and 70th percentiles\n",
    "bottom_30_threshold = df_filtered['avg_similarity_to_Books'].quantile(0.3)\n",
    "top_30_threshold = df_filtered['avg_similarity_to_Books'].quantile(0.7)\n",
    "\n",
    "# Create the bottom 30% DataFrame\n",
    "df_bottom_30 = df_filtered[df_filtered['avg_similarity_to_Books'] <= bottom_30_threshold]\n",
    "\n",
    "# Create the top 30% DataFrame\n",
    "df_top_30 = df_filtered[df_filtered['avg_similarity_to_Books'] >= top_30_threshold]\n",
    "\n",
    "# Display the DataFrames\n",
    "print(\"Bottom 30%:\")\n",
    "print(df_bottom_30.sort_values(by='avg_similarity_to_Books', ascending=False))\n",
    "print(\"\\nTop 30%:\")\n",
    "print(df_top_30.sort_values(by='avg_similarity_to_Books', ascending=False))"
   ]
  },
  {
   "cell_type": "code",
   "execution_count": 18,
   "metadata": {},
   "outputs": [
    {
     "name": "stdout",
     "output_type": "stream",
     "text": [
      "Index(['user_id:token', 'item_id:token', 'rating:float', 'timestamp:float'], dtype='object')\n"
     ]
    }
   ],
   "source": [
    "new_file_path = 'health_and_household_reviews'\n",
    "# Read the new CSV file into a DataFrame\n",
    "new_df = pd.read_csv(new_file_path, sep='\\t')\n",
    "\n",
    "# Strip any whitespace from the column names\n",
    "new_df.columns = new_df.columns.str.strip()\n",
    "\n",
    "print(new_df.columns)\n",
    "\n",
    "# Filter the new DataFrame for top 30% similarity\n",
    "top_filtered_df = new_df[new_df['item_id:token'].isin(df_top_30['parent_asin'])]\n",
    "\n",
    "# Filter the new DataFrame for bottom 30% similarity\n",
    "bottom_filtered_df = new_df[new_df['item_id:token'].isin(df_bottom_30['parent_asin'])]\n",
    "\n",
    "# Save the filtered DataFrames to separate CSV files\n",
    "top_filtered_df.to_csv(\"health_and_household_reviews_top_30\", sep=\"\\t\",index=False)\n",
    "bottom_filtered_df.to_csv(\"health_and_household_reviews_bottom_30\", sep=\"\\t\",index=False)"
   ]
  }
 ],
 "metadata": {
  "kernelspec": {
   "display_name": ".venv",
   "language": "python",
   "name": "python3"
  },
  "language_info": {
   "codemirror_mode": {
    "name": "ipython",
    "version": 3
   },
   "file_extension": ".py",
   "mimetype": "text/x-python",
   "name": "python",
   "nbconvert_exporter": "python",
   "pygments_lexer": "ipython3",
   "version": "3.11.5"
  }
 },
 "nbformat": 4,
 "nbformat_minor": 2
}
