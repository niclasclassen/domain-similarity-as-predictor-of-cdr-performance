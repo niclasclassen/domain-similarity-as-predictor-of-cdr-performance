{
 "cells": [
  {
   "cell_type": "code",
   "execution_count": null,
   "metadata": {},
   "outputs": [
    {
     "name": "stdout",
     "output_type": "stream",
     "text": [
      "                       Category1                 Category2  Similarity\n",
      "6                     All_Beauty  Beauty_and_Personal_Care    0.277004\n",
      "290                   Gift_Cards        Subscription_Boxes    0.272520\n",
      "214  Cell_Phones_and_Accessories               Electronics    0.263107\n",
      "97        Arts_Crafts_and_Sewing         Handmade_Products    0.257519\n",
      "105       Arts_Crafts_and_Sewing           Office_Products    0.241480\n",
      "..                           ...                       ...         ...\n",
      "221  Cell_Phones_and_Accessories              Kindle_Store    0.017323\n",
      "361    Industrial_and_Scientific              Kindle_Store    0.015454\n",
      "127                   Automotive              Kindle_Store    0.006102\n",
      "262                  Electronics              Kindle_Store    0.005018\n",
      "74                    Appliances              Kindle_Store   -0.001945\n",
      "\n",
      "[435 rows x 3 columns]\n"
     ]
    }
   ],
   "source": [
    "import pandas as pd\n",
    "\n",
    "# Define the file path\n",
    "file_path = 'data/similarity_results.txt'\n",
    "\n",
    "# Read the file into a DataFrame\n",
    "df = pd.read_csv(file_path, sep='\\t', header=None, names=['Category1', 'Category2', 'Similarity'])\n",
    "\n",
    "# Remove leading and trailing spaces from category names\n",
    "df['Category1'] = df['Category1'].str.strip()\n",
    "df['Category2'] = df['Category2'].str.strip()\n",
    "\n",
    "# Filter out rows where Category1 is equal to Category2\n",
    "df_filtered = df[df['Category1'] != df['Category2']]\n",
    "\n",
    "# Sort the filtered DataFrame by the 'Similarity' column in descending order\n",
    "df_sorted_filtered = df_filtered.sort_values(by='Similarity', ascending=False)\n",
    "\n",
    "# Display the sorted and filtered DataFrame\n",
    "print(df_sorted_filtered)\n"
   ]
  },
  {
   "cell_type": "code",
   "execution_count": null,
   "metadata": {},
   "outputs": [],
   "source": []
  },
  {
   "cell_type": "markdown",
   "metadata": {},
   "source": [
    "## Process data for CDRs"
   ]
  },
  {
   "cell_type": "code",
   "execution_count": 3,
   "metadata": {},
   "outputs": [],
   "source": [
    "from utils import get_domain_reviews\n",
    "import numpy as np\n",
    "import pandas as pd"
   ]
  },
  {
   "cell_type": "code",
   "execution_count": 4,
   "metadata": {},
   "outputs": [
    {
     "data": {
      "text/html": [
       "<div>\n",
       "<style scoped>\n",
       "    .dataframe tbody tr th:only-of-type {\n",
       "        vertical-align: middle;\n",
       "    }\n",
       "\n",
       "    .dataframe tbody tr th {\n",
       "        vertical-align: top;\n",
       "    }\n",
       "\n",
       "    .dataframe thead th {\n",
       "        text-align: right;\n",
       "    }\n",
       "</style>\n",
       "<table border=\"1\" class=\"dataframe\">\n",
       "  <thead>\n",
       "    <tr style=\"text-align: right;\">\n",
       "      <th></th>\n",
       "      <th>rating</th>\n",
       "      <th>title</th>\n",
       "      <th>text</th>\n",
       "      <th>images</th>\n",
       "      <th>asin</th>\n",
       "      <th>parent_asin</th>\n",
       "      <th>user_id</th>\n",
       "      <th>timestamp</th>\n",
       "      <th>helpful_vote</th>\n",
       "      <th>verified_purchase</th>\n",
       "    </tr>\n",
       "  </thead>\n",
       "  <tbody>\n",
       "    <tr>\n",
       "      <th>0</th>\n",
       "      <td>1.0</td>\n",
       "      <td>malware</td>\n",
       "      <td>mcaffee IS malware</td>\n",
       "      <td>[]</td>\n",
       "      <td>B07BFS3G7P</td>\n",
       "      <td>B0BQSK9QCF</td>\n",
       "      <td>AGCI7FAH4GL5FI65HYLKWTMFZ2CQ</td>\n",
       "      <td>1562182632076</td>\n",
       "      <td>0</td>\n",
       "      <td>False</td>\n",
       "    </tr>\n",
       "    <tr>\n",
       "      <th>1</th>\n",
       "      <td>5.0</td>\n",
       "      <td>Lots of Fun</td>\n",
       "      <td>I love playing tapped out because it is fun to...</td>\n",
       "      <td>[]</td>\n",
       "      <td>B00CTQ6SIG</td>\n",
       "      <td>B00CTQ6SIG</td>\n",
       "      <td>AHSPLDNW5OOUK2PLH7GXLACFBZNQ</td>\n",
       "      <td>1424120336000</td>\n",
       "      <td>0</td>\n",
       "      <td>True</td>\n",
       "    </tr>\n",
       "    <tr>\n",
       "      <th>2</th>\n",
       "      <td>5.0</td>\n",
       "      <td>Light Up The Dark</td>\n",
       "      <td>I love this flashlight app!  It really illumin...</td>\n",
       "      <td>[]</td>\n",
       "      <td>B0066WJLU6</td>\n",
       "      <td>B0066WJLU6</td>\n",
       "      <td>AHSPLDNW5OOUK2PLH7GXLACFBZNQ</td>\n",
       "      <td>1362399267000</td>\n",
       "      <td>0</td>\n",
       "      <td>True</td>\n",
       "    </tr>\n",
       "    <tr>\n",
       "      <th>3</th>\n",
       "      <td>4.0</td>\n",
       "      <td>Fun game</td>\n",
       "      <td>One of my favorite games</td>\n",
       "      <td>[]</td>\n",
       "      <td>B00KCYMAWK</td>\n",
       "      <td>B00KCYMAWK</td>\n",
       "      <td>AH6CATODIVPVUOJEWHRSRCSKAOHA</td>\n",
       "      <td>1561061428662</td>\n",
       "      <td>0</td>\n",
       "      <td>True</td>\n",
       "    </tr>\n",
       "    <tr>\n",
       "      <th>4</th>\n",
       "      <td>4.0</td>\n",
       "      <td>I am not that good at it but my kids are</td>\n",
       "      <td>Cute game. I am not that good at it but my kid...</td>\n",
       "      <td>[]</td>\n",
       "      <td>B00P1RK566</td>\n",
       "      <td>B00P1RK566</td>\n",
       "      <td>AEINY4XOINMMJCK5GZ3M6MMHBN6A</td>\n",
       "      <td>1418257196000</td>\n",
       "      <td>0</td>\n",
       "      <td>True</td>\n",
       "    </tr>\n",
       "  </tbody>\n",
       "</table>\n",
       "</div>"
      ],
      "text/plain": [
       "   rating                                     title  \\\n",
       "0     1.0                                   malware   \n",
       "1     5.0                               Lots of Fun   \n",
       "2     5.0                         Light Up The Dark   \n",
       "3     4.0                                  Fun game   \n",
       "4     4.0  I am not that good at it but my kids are   \n",
       "\n",
       "                                                text images        asin  \\\n",
       "0                                 mcaffee IS malware     []  B07BFS3G7P   \n",
       "1  I love playing tapped out because it is fun to...     []  B00CTQ6SIG   \n",
       "2  I love this flashlight app!  It really illumin...     []  B0066WJLU6   \n",
       "3                           One of my favorite games     []  B00KCYMAWK   \n",
       "4  Cute game. I am not that good at it but my kid...     []  B00P1RK566   \n",
       "\n",
       "  parent_asin                       user_id      timestamp  helpful_vote  \\\n",
       "0  B0BQSK9QCF  AGCI7FAH4GL5FI65HYLKWTMFZ2CQ  1562182632076             0   \n",
       "1  B00CTQ6SIG  AHSPLDNW5OOUK2PLH7GXLACFBZNQ  1424120336000             0   \n",
       "2  B0066WJLU6  AHSPLDNW5OOUK2PLH7GXLACFBZNQ  1362399267000             0   \n",
       "3  B00KCYMAWK  AH6CATODIVPVUOJEWHRSRCSKAOHA  1561061428662             0   \n",
       "4  B00P1RK566  AEINY4XOINMMJCK5GZ3M6MMHBN6A  1418257196000             0   \n",
       "\n",
       "   verified_purchase  \n",
       "0              False  \n",
       "1               True  \n",
       "2               True  \n",
       "3               True  \n",
       "4               True  "
      ]
     },
     "execution_count": 4,
     "metadata": {},
     "output_type": "execute_result"
    }
   ],
   "source": [
    "source_domain = get_domain_reviews(\"Software\")\n",
    "source_domain.head()"
   ]
  },
  {
   "cell_type": "code",
   "execution_count": 5,
   "metadata": {},
   "outputs": [
    {
     "data": {
      "text/html": [
       "<div>\n",
       "<style scoped>\n",
       "    .dataframe tbody tr th:only-of-type {\n",
       "        vertical-align: middle;\n",
       "    }\n",
       "\n",
       "    .dataframe tbody tr th {\n",
       "        vertical-align: top;\n",
       "    }\n",
       "\n",
       "    .dataframe thead th {\n",
       "        text-align: right;\n",
       "    }\n",
       "</style>\n",
       "<table border=\"1\" class=\"dataframe\">\n",
       "  <thead>\n",
       "    <tr style=\"text-align: right;\">\n",
       "      <th></th>\n",
       "      <th>rating</th>\n",
       "      <th>title</th>\n",
       "      <th>text</th>\n",
       "      <th>images</th>\n",
       "      <th>asin</th>\n",
       "      <th>parent_asin</th>\n",
       "      <th>user_id</th>\n",
       "      <th>timestamp</th>\n",
       "      <th>helpful_vote</th>\n",
       "      <th>verified_purchase</th>\n",
       "    </tr>\n",
       "  </thead>\n",
       "  <tbody>\n",
       "    <tr>\n",
       "      <th>0</th>\n",
       "      <td>4.0</td>\n",
       "      <td>It’s pretty sexual. Not my fav</td>\n",
       "      <td>I’m playing on ps5 and it’s interesting.  It’s...</td>\n",
       "      <td>[]</td>\n",
       "      <td>B07DJWBYKP</td>\n",
       "      <td>B07DK1H3H5</td>\n",
       "      <td>AGCI7FAH4GL5FI65HYLKWTMFZ2CQ</td>\n",
       "      <td>1608186804795</td>\n",
       "      <td>0</td>\n",
       "      <td>True</td>\n",
       "    </tr>\n",
       "    <tr>\n",
       "      <th>1</th>\n",
       "      <td>5.0</td>\n",
       "      <td>Good. A bit slow</td>\n",
       "      <td>Nostalgic fun.  A bit slow.  I hope they don’t...</td>\n",
       "      <td>[]</td>\n",
       "      <td>B00ZS80PC2</td>\n",
       "      <td>B07SRWRH5D</td>\n",
       "      <td>AGCI7FAH4GL5FI65HYLKWTMFZ2CQ</td>\n",
       "      <td>1587051114941</td>\n",
       "      <td>1</td>\n",
       "      <td>False</td>\n",
       "    </tr>\n",
       "    <tr>\n",
       "      <th>2</th>\n",
       "      <td>5.0</td>\n",
       "      <td>... an order for my kids &amp; they have really en...</td>\n",
       "      <td>This was an order for my kids &amp; they have real...</td>\n",
       "      <td>[]</td>\n",
       "      <td>B01FEHJYUU</td>\n",
       "      <td>B07MFMFW34</td>\n",
       "      <td>AGXVBIUFLFGMVLATYXHJYL4A5Q7Q</td>\n",
       "      <td>1490877431000</td>\n",
       "      <td>0</td>\n",
       "      <td>True</td>\n",
       "    </tr>\n",
       "    <tr>\n",
       "      <th>3</th>\n",
       "      <td>5.0</td>\n",
       "      <td>Great alt to pro controller</td>\n",
       "      <td>These work great, They use batteries which is ...</td>\n",
       "      <td>[]</td>\n",
       "      <td>B07GXJHRVK</td>\n",
       "      <td>B0BCHWZX95</td>\n",
       "      <td>AFTC6ZR5IKNRDG5JCPVNVMU3XV2Q</td>\n",
       "      <td>1577637634017</td>\n",
       "      <td>0</td>\n",
       "      <td>True</td>\n",
       "    </tr>\n",
       "    <tr>\n",
       "      <th>4</th>\n",
       "      <td>5.0</td>\n",
       "      <td>solid product</td>\n",
       "      <td>I would recommend to anyone looking to add jus...</td>\n",
       "      <td>[]</td>\n",
       "      <td>B00HUWA45W</td>\n",
       "      <td>B00HUWA45W</td>\n",
       "      <td>AFTC6ZR5IKNRDG5JCPVNVMU3XV2Q</td>\n",
       "      <td>1427591932000</td>\n",
       "      <td>0</td>\n",
       "      <td>True</td>\n",
       "    </tr>\n",
       "  </tbody>\n",
       "</table>\n",
       "</div>"
      ],
      "text/plain": [
       "   rating                                              title  \\\n",
       "0     4.0                     It’s pretty sexual. Not my fav   \n",
       "1     5.0                                   Good. A bit slow   \n",
       "2     5.0  ... an order for my kids & they have really en...   \n",
       "3     5.0                        Great alt to pro controller   \n",
       "4     5.0                                      solid product   \n",
       "\n",
       "                                                text images        asin  \\\n",
       "0  I’m playing on ps5 and it’s interesting.  It’s...     []  B07DJWBYKP   \n",
       "1  Nostalgic fun.  A bit slow.  I hope they don’t...     []  B00ZS80PC2   \n",
       "2  This was an order for my kids & they have real...     []  B01FEHJYUU   \n",
       "3  These work great, They use batteries which is ...     []  B07GXJHRVK   \n",
       "4  I would recommend to anyone looking to add jus...     []  B00HUWA45W   \n",
       "\n",
       "  parent_asin                       user_id      timestamp  helpful_vote  \\\n",
       "0  B07DK1H3H5  AGCI7FAH4GL5FI65HYLKWTMFZ2CQ  1608186804795             0   \n",
       "1  B07SRWRH5D  AGCI7FAH4GL5FI65HYLKWTMFZ2CQ  1587051114941             1   \n",
       "2  B07MFMFW34  AGXVBIUFLFGMVLATYXHJYL4A5Q7Q  1490877431000             0   \n",
       "3  B0BCHWZX95  AFTC6ZR5IKNRDG5JCPVNVMU3XV2Q  1577637634017             0   \n",
       "4  B00HUWA45W  AFTC6ZR5IKNRDG5JCPVNVMU3XV2Q  1427591932000             0   \n",
       "\n",
       "   verified_purchase  \n",
       "0               True  \n",
       "1              False  \n",
       "2               True  \n",
       "3               True  \n",
       "4               True  "
      ]
     },
     "execution_count": 5,
     "metadata": {},
     "output_type": "execute_result"
    }
   ],
   "source": [
    "target_domain = get_domain_reviews(\"Video_Games\")\n",
    "target_domain.head()"
   ]
  },
  {
   "cell_type": "code",
   "execution_count": 20,
   "metadata": {},
   "outputs": [],
   "source": [
    "num_users = target_domain['user_id:token'].nunique()\n",
    "num_items = target_domain['item_id:token'].nunique()\n",
    "\n",
    "# Total possible interactions\n",
    "total_possible_interactions = num_users * num_items\n",
    "\n",
    "# Actual interactions (non-zero ratings are represented by rows in the dataset)\n",
    "actual_interactions = len(target_domain)\n",
    "\n",
    "# Calculate sparsity\n",
    "sparsity = 1 - (actual_interactions / total_possible_interactions)"
   ]
  },
  {
   "cell_type": "code",
   "execution_count": 21,
   "metadata": {},
   "outputs": [
    {
     "data": {
      "text/plain": [
       "0.999987821011192"
      ]
     },
     "execution_count": 21,
     "metadata": {},
     "output_type": "execute_result"
    }
   ],
   "source": [
    "sparsity"
   ]
  },
  {
   "cell_type": "code",
   "execution_count": null,
   "metadata": {},
   "outputs": [],
   "source": [
    "from utils import get_domain_reviews\n",
    "def make_rec_df(source_domain, target_domain):\n",
    "    source_domain = get_domain_reviews(source_domain)\n",
    "    target_domain = get_domain_reviews(target_domain)\n",
    "\n",
    "    source_domain = source_domain[['user_id', 'parent_asin', 'rating', 'timestamp']]\n",
    "    source_domain = source_domain[['user_id', 'parent_asin', 'rating', 'timestamp']].rename(columns={\n",
    "    'user_id': 'user_id:token',\n",
    "    'parent_asin': 'item_id:token',\n",
    "    'rating': 'rating:float',\n",
    "    'timestamp': 'timestamp:float'\n",
    "    })\n",
    "    target_domain = target_domain[['user_id', 'parent_asin', 'rating', 'timestamp']]\n",
    "    target_domain = target_domain[['user_id', 'parent_asin', 'rating', 'timestamp']].rename(columns={\n",
    "    'user_id': 'user_id:token',\n",
    "    'parent_asin': 'item_id:token',\n",
    "    'rating': 'rating:float',\n",
    "    'timestamp': 'timestamp:float'\n",
    "    })\n",
    "\n",
    "    latest_review_source = source_domain['timestamp:float'].max()\n",
    "    five_years_ago = latest_review_source - 5 * 365 * 24 * 60 * 60 * 1000\n",
    "\n",
    "    source_domain = source_domain[source_domain['timestamp:float'] >= five_years_ago]\n",
    "    n = 250000\n",
    "    source_domain = source_domain.sample(n, random_state=42).reset_index(drop=True)\n",
    "\n",
    "    latest_review_target = target_domain['timestamp:float'].max()\n",
    "    five_years_ago = latest_review_target - 5 * 365 * 24 * 60 * 60 * 1000\n",
    "\n",
    "    target_domain = target_domain[target_domain['timestamp:float'] >= five_years_ago]\n",
    "    n = 250000\n",
    "    target_domain = target_domain.sample(n, random_state=42).reset_index(drop=True)\n",
    "    target_domain.to_csv('vendor/recbole-cdr/recbole_cdr/dataset/target_domain_reviews/target_domain_reviews.inter', sep='\\t', index=False)\n",
    "    source_domain.to_csv('vendor/recbole-cdr/recbole_cdr/dataset/source_domain_reviews/source_domain_reviews.inter', sep='\\t', index=False)\n",
    "\n"
   ]
  },
  {
   "cell_type": "code",
   "execution_count": 6,
   "metadata": {},
   "outputs": [],
   "source": [
    "# only keep user_id, parent_asin, and rating columns\n",
    "source_domain = source_domain[['user_id', 'parent_asin', 'rating', 'timestamp']]\n",
    "# Rename parent_asin to item_id and keep only the specified columns\n",
    "source_domain = source_domain[['user_id', 'parent_asin', 'rating', 'timestamp']].rename(columns={\n",
    "    'user_id': 'user_id:token',\n",
    "    'parent_asin': 'item_id:token',\n",
    "    'rating': 'rating:float',\n",
    "    'timestamp': 'timestamp:float'\n",
    "})\n",
    "\n",
    "# Save all_beauty DataFrame to a text file\n",
    "#source_domain.to_csv('vendor/recbole-cdr/recbole_cdr/datasets/source_domain_reviews/source_domain_reviews.inter', sep='\\t', index=False)"
   ]
  },
  {
   "cell_type": "code",
   "execution_count": 7,
   "metadata": {},
   "outputs": [],
   "source": [
    "target_domain = target_domain[['user_id', 'parent_asin', 'rating', 'timestamp']]\n",
    "target_domain = target_domain[['user_id', 'parent_asin', 'rating', 'timestamp']].rename(columns={\n",
    "    'user_id': 'user_id:token',\n",
    "    'parent_asin': 'item_id:token',\n",
    "    'rating': 'rating:float',\n",
    "    'timestamp': 'timestamp:float'\n",
    "})\n",
    "# Save appliances DataFrame to a text file\n",
    "#target_domain.to_csv('vendor/recbole-cdr/recbole_cdr/datasets/target_domain_reviews/target_domain_reviews.inter', sep='\\t', index=False)"
   ]
  },
  {
   "cell_type": "code",
   "execution_count": 8,
   "metadata": {},
   "outputs": [
    {
     "data": {
      "text/plain": [
       "269068"
      ]
     },
     "execution_count": 8,
     "metadata": {},
     "output_type": "execute_result"
    }
   ],
   "source": [
    "#print number of same users in both source and target domain\n",
    "len(set(target_domain['user_id:token']).intersection(set(source_domain['user_id:token'])))"
   ]
  },
  {
   "cell_type": "code",
   "execution_count": 14,
   "metadata": {},
   "outputs": [
    {
     "data": {
      "text/plain": [
       "1189720"
      ]
     },
     "execution_count": 14,
     "metadata": {},
     "output_type": "execute_result"
    }
   ],
   "source": [
    "# Source\n",
    "latest_review = source_domain['timestamp:float'].max()\n",
    "five_years_ago = latest_review - 5 * 365 * 24 * 60 * 60 * 1000\n",
    "source_5_years = source_domain[source_domain['timestamp:float'] >= five_years_ago]\n",
    "# sample n items from the target domain\n",
    "n = 250000\n",
    "source_5_years_sample = source_5_years.sample(n, random_state=42).reset_index(drop=True)\n",
    "\n",
    "len(source_5_years)"
   ]
  },
  {
   "cell_type": "code",
   "execution_count": 15,
   "metadata": {},
   "outputs": [
    {
     "data": {
      "text/plain": [
       "250000"
      ]
     },
     "execution_count": 15,
     "metadata": {},
     "output_type": "execute_result"
    }
   ],
   "source": [
    "#filter the target domain to only include items from the last 5 years timespamp is unix time ex. 1608186804795\n",
    "latest_review = target_domain['timestamp:float'].max()\n",
    "five_years_ago = latest_review - 5 * 365 * 24 * 60 * 60 * 1000\n",
    "target_5_years = target_domain[target_domain['timestamp:float'] >= five_years_ago]\n",
    "# sample n items from the target domain\n",
    "n = 250000\n",
    "target_5_years_sample = target_5_years.sample(n, random_state=42).reset_index(drop=True)\n",
    "\n",
    "\n",
    "len(target_5_years_sample)"
   ]
  },
  {
   "cell_type": "code",
   "execution_count": 16,
   "metadata": {},
   "outputs": [
    {
     "data": {
      "text/plain": [
       "3542"
      ]
     },
     "execution_count": 16,
     "metadata": {},
     "output_type": "execute_result"
    }
   ],
   "source": [
    "#print number of same users in both source and target domain\n",
    "len(set(source_5_years_sample['user_id:token']).intersection(set(target_5_years_sample['user_id:token'])))"
   ]
  },
  {
   "cell_type": "code",
   "execution_count": 17,
   "metadata": {},
   "outputs": [],
   "source": [
    "target_5_years_sample.to_csv('vendor/recbole-cdr/recbole_cdr/dataset/target_domain_reviews/target_domain_reviews.inter', sep='\\t', index=False)"
   ]
  },
  {
   "cell_type": "code",
   "execution_count": 18,
   "metadata": {},
   "outputs": [],
   "source": [
    "source_5_years_sample.to_csv('vendor/recbole-cdr/recbole_cdr/dataset/source_domain_reviews/source_domain_reviews.inter', sep='\\t', index=False)"
   ]
  },
  {
   "cell_type": "code",
   "execution_count": 32,
   "metadata": {},
   "outputs": [
    {
     "data": {
      "text/plain": [
       "438915"
      ]
     },
     "execution_count": 32,
     "metadata": {},
     "output_type": "execute_result"
    }
   ],
   "source": [
    "#get number of unique user ids\n",
    "target_5_years_sample['user_id:token'].nunique()"
   ]
  },
  {
   "cell_type": "code",
   "execution_count": null,
   "metadata": {},
   "outputs": [],
   "source": []
  }
 ],
 "metadata": {
  "kernelspec": {
   "display_name": "rp_env",
   "language": "python",
   "name": "python3"
  },
  "language_info": {
   "codemirror_mode": {
    "name": "ipython",
    "version": 3
   },
   "file_extension": ".py",
   "mimetype": "text/x-python",
   "name": "python",
   "nbconvert_exporter": "python",
   "pygments_lexer": "ipython3",
   "version": "3.12.5"
  }
 },
 "nbformat": 4,
 "nbformat_minor": 2
}
