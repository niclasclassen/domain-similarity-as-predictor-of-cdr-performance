{
 "cells": [
  {
   "cell_type": "code",
   "execution_count": null,
   "metadata": {},
   "outputs": [
    {
     "name": "stdout",
     "output_type": "stream",
     "text": [
      "                       Category1                 Category2  Similarity\n",
      "6                     All_Beauty  Beauty_and_Personal_Care    0.277004\n",
      "290                   Gift_Cards        Subscription_Boxes    0.272520\n",
      "214  Cell_Phones_and_Accessories               Electronics    0.263107\n",
      "97        Arts_Crafts_and_Sewing         Handmade_Products    0.257519\n",
      "105       Arts_Crafts_and_Sewing           Office_Products    0.241480\n",
      "..                           ...                       ...         ...\n",
      "221  Cell_Phones_and_Accessories              Kindle_Store    0.017323\n",
      "361    Industrial_and_Scientific              Kindle_Store    0.015454\n",
      "127                   Automotive              Kindle_Store    0.006102\n",
      "262                  Electronics              Kindle_Store    0.005018\n",
      "74                    Appliances              Kindle_Store   -0.001945\n",
      "\n",
      "[435 rows x 3 columns]\n"
     ]
    }
   ],
   "source": [
    "import pandas as pd\n",
    "\n",
    "# Define the file path\n",
    "file_path = 'data/similarity_results.txt'\n",
    "\n",
    "# Read the file into a DataFrame\n",
    "df = pd.read_csv(file_path, sep='\\t', header=None, names=['Category1', 'Category2', 'Similarity'])\n",
    "\n",
    "# Remove leading and trailing spaces from category names\n",
    "df['Category1'] = df['Category1'].str.strip()\n",
    "df['Category2'] = df['Category2'].str.strip()\n",
    "\n",
    "# Filter out rows where Category1 is equal to Category2\n",
    "df_filtered = df[df['Category1'] != df['Category2']]\n",
    "\n",
    "# Sort the filtered DataFrame by the 'Similarity' column in descending order\n",
    "df_sorted_filtered = df_filtered.sort_values(by='Similarity', ascending=False)\n",
    "\n",
    "# Display the sorted and filtered DataFrame\n",
    "print(df_sorted_filtered)\n"
   ]
  },
  {
   "cell_type": "code",
   "execution_count": null,
   "metadata": {},
   "outputs": [],
   "source": []
  },
  {
   "cell_type": "markdown",
   "metadata": {},
   "source": [
    "## Process data for CDRs"
   ]
  },
  {
   "cell_type": "code",
   "execution_count": 1,
   "metadata": {},
   "outputs": [],
   "source": [
    "from utils import get_domain_reviews\n",
    "import numpy as np\n",
    "import pandas as pd"
   ]
  },
  {
   "cell_type": "code",
   "execution_count": 11,
   "metadata": {},
   "outputs": [
    {
     "data": {
      "text/html": [
       "<div>\n",
       "<style scoped>\n",
       "    .dataframe tbody tr th:only-of-type {\n",
       "        vertical-align: middle;\n",
       "    }\n",
       "\n",
       "    .dataframe tbody tr th {\n",
       "        vertical-align: top;\n",
       "    }\n",
       "\n",
       "    .dataframe thead th {\n",
       "        text-align: right;\n",
       "    }\n",
       "</style>\n",
       "<table border=\"1\" class=\"dataframe\">\n",
       "  <thead>\n",
       "    <tr style=\"text-align: right;\">\n",
       "      <th></th>\n",
       "      <th>rating</th>\n",
       "      <th>title</th>\n",
       "      <th>text</th>\n",
       "      <th>images</th>\n",
       "      <th>asin</th>\n",
       "      <th>parent_asin</th>\n",
       "      <th>user_id</th>\n",
       "      <th>timestamp</th>\n",
       "      <th>helpful_vote</th>\n",
       "      <th>verified_purchase</th>\n",
       "    </tr>\n",
       "  </thead>\n",
       "  <tbody>\n",
       "    <tr>\n",
       "      <th>0</th>\n",
       "      <td>5.0</td>\n",
       "      <td>Five Stars</td>\n",
       "      <td>Great headphones, comfortable and sound is goo...</td>\n",
       "      <td>[]</td>\n",
       "      <td>B003LPTAYI</td>\n",
       "      <td>B003LPTAYI</td>\n",
       "      <td>AGKASBHYZPGTEPO6LWZPVJWB2BVA</td>\n",
       "      <td>1452650586000</td>\n",
       "      <td>0</td>\n",
       "      <td>True</td>\n",
       "    </tr>\n",
       "    <tr>\n",
       "      <th>1</th>\n",
       "      <td>3.0</td>\n",
       "      <td>nice sound.  pedal failed after less than 1 year</td>\n",
       "      <td>I like the piano.. but the sustain pedal faile...</td>\n",
       "      <td>[]</td>\n",
       "      <td>B00723436A</td>\n",
       "      <td>B06XP6TDVY</td>\n",
       "      <td>AGCI7FAH4GL5FI65HYLKWTMFZ2CQ</td>\n",
       "      <td>1558567365290</td>\n",
       "      <td>2</td>\n",
       "      <td>True</td>\n",
       "    </tr>\n",
       "    <tr>\n",
       "      <th>2</th>\n",
       "      <td>4.0</td>\n",
       "      <td>okay</td>\n",
       "      <td>pretty good overall.  I like it.  the controll...</td>\n",
       "      <td>[]</td>\n",
       "      <td>B0040FJ27S</td>\n",
       "      <td>B0040FJ27S</td>\n",
       "      <td>AGCI7FAH4GL5FI65HYLKWTMFZ2CQ</td>\n",
       "      <td>1384912482000</td>\n",
       "      <td>0</td>\n",
       "      <td>True</td>\n",
       "    </tr>\n",
       "    <tr>\n",
       "      <th>3</th>\n",
       "      <td>3.0</td>\n",
       "      <td>Easy to return.</td>\n",
       "      <td>Too bad it didn't work. At least the return pr...</td>\n",
       "      <td>[]</td>\n",
       "      <td>B00191WVF6</td>\n",
       "      <td>B00WJ3HL5I</td>\n",
       "      <td>AEM663T6XHZFWLODF4US2RCOCUSA</td>\n",
       "      <td>1607055693671</td>\n",
       "      <td>0</td>\n",
       "      <td>True</td>\n",
       "    </tr>\n",
       "    <tr>\n",
       "      <th>4</th>\n",
       "      <td>5.0</td>\n",
       "      <td>Good product despite tight bolt.</td>\n",
       "      <td>Good and sturdy but the bolt was hell to get o...</td>\n",
       "      <td>[]</td>\n",
       "      <td>B07T9NM5QR</td>\n",
       "      <td>B07T9NM5QR</td>\n",
       "      <td>AFJTRBXMURLHS5EGNXLUHDHIZRFQ</td>\n",
       "      <td>1622595785255</td>\n",
       "      <td>0</td>\n",
       "      <td>False</td>\n",
       "    </tr>\n",
       "  </tbody>\n",
       "</table>\n",
       "</div>"
      ],
      "text/plain": [
       "   rating                                             title  \\\n",
       "0     5.0                                        Five Stars   \n",
       "1     3.0  nice sound.  pedal failed after less than 1 year   \n",
       "2     4.0                                              okay   \n",
       "3     3.0                                   Easy to return.   \n",
       "4     5.0                  Good product despite tight bolt.   \n",
       "\n",
       "                                                text images        asin  \\\n",
       "0  Great headphones, comfortable and sound is goo...     []  B003LPTAYI   \n",
       "1  I like the piano.. but the sustain pedal faile...     []  B00723436A   \n",
       "2  pretty good overall.  I like it.  the controll...     []  B0040FJ27S   \n",
       "3  Too bad it didn't work. At least the return pr...     []  B00191WVF6   \n",
       "4  Good and sturdy but the bolt was hell to get o...     []  B07T9NM5QR   \n",
       "\n",
       "  parent_asin                       user_id      timestamp  helpful_vote  \\\n",
       "0  B003LPTAYI  AGKASBHYZPGTEPO6LWZPVJWB2BVA  1452650586000             0   \n",
       "1  B06XP6TDVY  AGCI7FAH4GL5FI65HYLKWTMFZ2CQ  1558567365290             2   \n",
       "2  B0040FJ27S  AGCI7FAH4GL5FI65HYLKWTMFZ2CQ  1384912482000             0   \n",
       "3  B00WJ3HL5I  AEM663T6XHZFWLODF4US2RCOCUSA  1607055693671             0   \n",
       "4  B07T9NM5QR  AFJTRBXMURLHS5EGNXLUHDHIZRFQ  1622595785255             0   \n",
       "\n",
       "   verified_purchase  \n",
       "0               True  \n",
       "1               True  \n",
       "2               True  \n",
       "3               True  \n",
       "4              False  "
      ]
     },
     "execution_count": 11,
     "metadata": {},
     "output_type": "execute_result"
    }
   ],
   "source": [
    "source_domain = get_domain_reviews(\"musical_instruments\")\n",
    "source_domain.head()"
   ]
  },
  {
   "cell_type": "code",
   "execution_count": 12,
   "metadata": {},
   "outputs": [
    {
     "data": {
      "text/plain": [
       "30174390"
      ]
     },
     "execution_count": 12,
     "metadata": {},
     "output_type": "execute_result"
    }
   ],
   "source": [
    "source_domain.size"
   ]
  },
  {
   "cell_type": "code",
   "execution_count": 4,
   "metadata": {},
   "outputs": [
    {
     "name": "stdout",
     "output_type": "stream",
     "text": [
      "46246150\n"
     ]
    },
    {
     "data": {
      "text/html": [
       "<div>\n",
       "<style scoped>\n",
       "    .dataframe tbody tr th:only-of-type {\n",
       "        vertical-align: middle;\n",
       "    }\n",
       "\n",
       "    .dataframe tbody tr th {\n",
       "        vertical-align: top;\n",
       "    }\n",
       "\n",
       "    .dataframe thead th {\n",
       "        text-align: right;\n",
       "    }\n",
       "</style>\n",
       "<table border=\"1\" class=\"dataframe\">\n",
       "  <thead>\n",
       "    <tr style=\"text-align: right;\">\n",
       "      <th></th>\n",
       "      <th>rating</th>\n",
       "      <th>title</th>\n",
       "      <th>text</th>\n",
       "      <th>images</th>\n",
       "      <th>asin</th>\n",
       "      <th>parent_asin</th>\n",
       "      <th>user_id</th>\n",
       "      <th>timestamp</th>\n",
       "      <th>helpful_vote</th>\n",
       "      <th>verified_purchase</th>\n",
       "    </tr>\n",
       "  </thead>\n",
       "  <tbody>\n",
       "    <tr>\n",
       "      <th>0</th>\n",
       "      <td>4.0</td>\n",
       "      <td>It’s pretty sexual. Not my fav</td>\n",
       "      <td>I’m playing on ps5 and it’s interesting.  It’s...</td>\n",
       "      <td>[]</td>\n",
       "      <td>B07DJWBYKP</td>\n",
       "      <td>B07DK1H3H5</td>\n",
       "      <td>AGCI7FAH4GL5FI65HYLKWTMFZ2CQ</td>\n",
       "      <td>1608186804795</td>\n",
       "      <td>0</td>\n",
       "      <td>True</td>\n",
       "    </tr>\n",
       "    <tr>\n",
       "      <th>1</th>\n",
       "      <td>5.0</td>\n",
       "      <td>Good. A bit slow</td>\n",
       "      <td>Nostalgic fun.  A bit slow.  I hope they don’t...</td>\n",
       "      <td>[]</td>\n",
       "      <td>B00ZS80PC2</td>\n",
       "      <td>B07SRWRH5D</td>\n",
       "      <td>AGCI7FAH4GL5FI65HYLKWTMFZ2CQ</td>\n",
       "      <td>1587051114941</td>\n",
       "      <td>1</td>\n",
       "      <td>False</td>\n",
       "    </tr>\n",
       "    <tr>\n",
       "      <th>2</th>\n",
       "      <td>5.0</td>\n",
       "      <td>... an order for my kids &amp; they have really en...</td>\n",
       "      <td>This was an order for my kids &amp; they have real...</td>\n",
       "      <td>[]</td>\n",
       "      <td>B01FEHJYUU</td>\n",
       "      <td>B07MFMFW34</td>\n",
       "      <td>AGXVBIUFLFGMVLATYXHJYL4A5Q7Q</td>\n",
       "      <td>1490877431000</td>\n",
       "      <td>0</td>\n",
       "      <td>True</td>\n",
       "    </tr>\n",
       "    <tr>\n",
       "      <th>3</th>\n",
       "      <td>5.0</td>\n",
       "      <td>Great alt to pro controller</td>\n",
       "      <td>These work great, They use batteries which is ...</td>\n",
       "      <td>[]</td>\n",
       "      <td>B07GXJHRVK</td>\n",
       "      <td>B0BCHWZX95</td>\n",
       "      <td>AFTC6ZR5IKNRDG5JCPVNVMU3XV2Q</td>\n",
       "      <td>1577637634017</td>\n",
       "      <td>0</td>\n",
       "      <td>True</td>\n",
       "    </tr>\n",
       "    <tr>\n",
       "      <th>4</th>\n",
       "      <td>5.0</td>\n",
       "      <td>solid product</td>\n",
       "      <td>I would recommend to anyone looking to add jus...</td>\n",
       "      <td>[]</td>\n",
       "      <td>B00HUWA45W</td>\n",
       "      <td>B00HUWA45W</td>\n",
       "      <td>AFTC6ZR5IKNRDG5JCPVNVMU3XV2Q</td>\n",
       "      <td>1427591932000</td>\n",
       "      <td>0</td>\n",
       "      <td>True</td>\n",
       "    </tr>\n",
       "  </tbody>\n",
       "</table>\n",
       "</div>"
      ],
      "text/plain": [
       "   rating                                              title  \\\n",
       "0     4.0                     It’s pretty sexual. Not my fav   \n",
       "1     5.0                                   Good. A bit slow   \n",
       "2     5.0  ... an order for my kids & they have really en...   \n",
       "3     5.0                        Great alt to pro controller   \n",
       "4     5.0                                      solid product   \n",
       "\n",
       "                                                text images        asin  \\\n",
       "0  I’m playing on ps5 and it’s interesting.  It’s...     []  B07DJWBYKP   \n",
       "1  Nostalgic fun.  A bit slow.  I hope they don’t...     []  B00ZS80PC2   \n",
       "2  This was an order for my kids & they have real...     []  B01FEHJYUU   \n",
       "3  These work great, They use batteries which is ...     []  B07GXJHRVK   \n",
       "4  I would recommend to anyone looking to add jus...     []  B00HUWA45W   \n",
       "\n",
       "  parent_asin                       user_id      timestamp  helpful_vote  \\\n",
       "0  B07DK1H3H5  AGCI7FAH4GL5FI65HYLKWTMFZ2CQ  1608186804795             0   \n",
       "1  B07SRWRH5D  AGCI7FAH4GL5FI65HYLKWTMFZ2CQ  1587051114941             1   \n",
       "2  B07MFMFW34  AGXVBIUFLFGMVLATYXHJYL4A5Q7Q  1490877431000             0   \n",
       "3  B0BCHWZX95  AFTC6ZR5IKNRDG5JCPVNVMU3XV2Q  1577637634017             0   \n",
       "4  B00HUWA45W  AFTC6ZR5IKNRDG5JCPVNVMU3XV2Q  1427591932000             0   \n",
       "\n",
       "   verified_purchase  \n",
       "0               True  \n",
       "1              False  \n",
       "2               True  \n",
       "3               True  \n",
       "4               True  "
      ]
     },
     "execution_count": 4,
     "metadata": {},
     "output_type": "execute_result"
    }
   ],
   "source": [
    "target_domain = get_domain_reviews(\"video_games\")\n",
    "print(target_domain.size)\n",
    "target_domain.head()"
   ]
  },
  {
   "cell_type": "code",
   "execution_count": 13,
   "metadata": {},
   "outputs": [],
   "source": [
    "# Get the latest timestamp from the data\n",
    "latest_timestamp = source_domain['timestamp'].max()\n",
    "\n",
    "# Calculate the timestamp for 5 years ago from the latest timestamp\n",
    "five_years_ago_timestamp = latest_timestamp - (5 * 365 * 24 * 60 * 60 * 1000)\n",
    "\n",
    "# Filter the DataFrame to only keep reviews from the last 5 years\n",
    "source_domain_filtered = source_domain[source_domain['timestamp'] >= five_years_ago_timestamp]\n",
    "\n",
    "# # Rename parent_asin to item_id and keep only the specified columns\n",
    "# source_domain = source_domain[['user_id', 'parent_asin', 'rating', 'timestamp']].rename(columns={\n",
    "#     'user_id': 'user_id:token',\n",
    "#     'parent_asin': 'item_id:token',\n",
    "#     'rating': 'rating:float',\n",
    "#     'timestamp': 'timestamp:float'\n",
    "# })\n",
    "\n",
    "# # Save the DataFrame to a text file\n",
    "# source_domain.to_csv('source_domain_reviews.inter', sep='\\t', index=False)"
   ]
  },
  {
   "cell_type": "code",
   "execution_count": 14,
   "metadata": {},
   "outputs": [
    {
     "data": {
      "text/plain": [
       "(1639342, 10)"
      ]
     },
     "execution_count": 14,
     "metadata": {},
     "output_type": "execute_result"
    }
   ],
   "source": [
    "source_domain_filtered.shape"
   ]
  },
  {
   "cell_type": "code",
   "execution_count": 12,
   "metadata": {},
   "outputs": [
    {
     "data": {
      "text/plain": [
       "(500000, 10)"
      ]
     },
     "execution_count": 12,
     "metadata": {},
     "output_type": "execute_result"
    }
   ],
   "source": [
    "# Sample 500,000 rows from the source_domain DataFrame\n",
    "sampled_source_domain = source_domain.sample(n=500000, random_state=42).reset_index(drop=True)\n",
    "\n",
    "# Display the shape of the sampled DataFrame to confirm the number of rows\n",
    "sampled_source_domain.shape"
   ]
  },
  {
   "cell_type": "code",
   "execution_count": 15,
   "metadata": {},
   "outputs": [],
   "source": [
    "# only keep user_id, parent_asin, and rating columns\n",
    "source_domain_filtered = source_domain_filtered[['user_id', 'parent_asin', 'rating', 'timestamp']]\n",
    "# Rename parent_asin to item_id and keep only the specified columns\n",
    "source_domain_filtered = source_domain_filtered[['user_id', 'parent_asin', 'rating', 'timestamp']].rename(columns={\n",
    "    'user_id': 'user_id:token',\n",
    "    'parent_asin': 'item_id:token',\n",
    "    'rating': 'rating:float',\n",
    "    'timestamp': 'timestamp:float'\n",
    "})\n",
    "\n",
    "# Save all_beauty DataFrame to a text file\n",
    "source_domain_filtered.to_csv('source_domain_reviews.inter', sep='\\t', index=False)"
   ]
  },
  {
   "cell_type": "code",
   "execution_count": 8,
   "metadata": {},
   "outputs": [],
   "source": [
    "target_domain_filtered = target_domain[target_domain['timestamp'] >= five_years_ago_timestamp]"
   ]
  },
  {
   "cell_type": "code",
   "execution_count": 9,
   "metadata": {},
   "outputs": [
    {
     "data": {
      "text/plain": [
       "21420070"
      ]
     },
     "execution_count": 9,
     "metadata": {},
     "output_type": "execute_result"
    }
   ],
   "source": [
    "target_domain_filtered.size"
   ]
  },
  {
   "cell_type": "code",
   "execution_count": 10,
   "metadata": {},
   "outputs": [],
   "source": [
    "target_domain_filtered = target_domain_filtered[['user_id', 'parent_asin', 'rating', 'timestamp']]\n",
    "target_domain_filtered = target_domain_filtered[['user_id', 'parent_asin', 'rating', 'timestamp']].rename(columns={\n",
    "    'user_id': 'user_id:token',\n",
    "    'parent_asin': 'item_id:token',\n",
    "    'rating': 'rating:float',\n",
    "    'timestamp': 'timestamp:float'\n",
    "})\n",
    "# Save appliances DataFrame to a text file\n",
    "target_domain_filtered.to_csv('target_domain_reviews.inter', sep='\\t', index=False)"
   ]
  },
  {
   "cell_type": "code",
   "execution_count": null,
   "metadata": {},
   "outputs": [],
   "source": []
  }
 ],
 "metadata": {
  "kernelspec": {
   "display_name": ".venv",
   "language": "python",
   "name": "python3"
  },
  "language_info": {
   "codemirror_mode": {
    "name": "ipython",
    "version": 3
   },
   "file_extension": ".py",
   "mimetype": "text/x-python",
   "name": "python",
   "nbconvert_exporter": "python",
   "pygments_lexer": "ipython3",
   "version": "3.11.5"
  }
 },
 "nbformat": 4,
 "nbformat_minor": 2
}
